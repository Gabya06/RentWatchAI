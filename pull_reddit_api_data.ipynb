{
 "cells": [
  {
   "cell_type": "markdown",
   "metadata": {},
   "source": [
    "### Pull Data from Reddit subreddit NYCapartments using Reddit API "
   ]
  },
  {
   "cell_type": "code",
   "execution_count": 2,
   "metadata": {},
   "outputs": [],
   "source": [
    "# imports\n",
    "import json\n",
    "import pandas as pd\n",
    "import praw\n",
    "import time"
   ]
  },
  {
   "cell_type": "code",
   "execution_count": null,
   "metadata": {},
   "outputs": [],
   "source": [
    "# open credential file\n",
    "with open('client_secrets.json', 'r') as f:\n",
    "    app_creds = json.load(f)\n"
   ]
  },
  {
   "cell_type": "code",
   "execution_count": 8,
   "metadata": {},
   "outputs": [],
   "source": [
    "# get app credentials\n",
    "client_id = app_creds['client_id']\n",
    "client_secret = app_creds['client_secret']\n",
    "user_agent = app_creds['user_agent']\n",
    "redirect_uri = app_creds['redirect_uri']\n",
    "client_password = app_creds['password']\n",
    "user_name = app_creds['user_name']"
   ]
  },
  {
   "cell_type": "markdown",
   "metadata": {},
   "source": [
    "### Connect to Reddit API"
   ]
  },
  {
   "cell_type": "code",
   "execution_count": 9,
   "metadata": {},
   "outputs": [
    {
     "name": "stdout",
     "output_type": "stream",
     "text": [
      "False\n"
     ]
    }
   ],
   "source": [
    "# connect to Reddit API using PRAW\n",
    "reddit = praw.Reddit(\n",
    "    client_id=client_id,\n",
    "    client_secret=client_secret,\n",
    "    password=client_password,\n",
    "    user_agent=user_agent,\n",
    "    username=user_name,\n",
    ")\n",
    "\n",
    "print(reddit.read_only)"
   ]
  },
  {
   "cell_type": "code",
   "execution_count": 10,
   "metadata": {},
   "outputs": [],
   "source": [
    "# add in astoriaapartments later\n",
    "subreddit_topics = ['astoriaapartments', 'NYCapartments']"
   ]
  },
  {
   "cell_type": "code",
   "execution_count": 84,
   "metadata": {},
   "outputs": [
    {
     "name": "stdout",
     "output_type": "stream",
     "text": [
      "Finished pull data in -2.12 mins\n"
     ]
    }
   ],
   "source": [
    "# Pull posts from last year NYCapartments subreddit\n",
    "start_time = time.time()\n",
    "post_list = []\n",
    "for post in reddit.subreddit(\"NYCapartments\").top(time_filter=\"year\"):\n",
    "# for post in reddit.subreddit(\"astoriaapartments+NYCapartments\").top(time_filter=\"year\"):\n",
    "    post_dict = {}\n",
    "    post_comments = []\n",
    "    post_dict['subreddit'] = post.subreddit_name_prefixed\n",
    "    post_dict['title'] = post.title\n",
    "    post_dict['score'] = post.score\n",
    "    post_dict['num_comments'] = post.num_comments\n",
    "    post_dict['url'] = post.shortlink\n",
    "    post.comments.replace_more(limit=None)\n",
    "    for top_level_comment in post.comments:\n",
    "        post_comments.append(top_level_comment.body)\n",
    "    post_dict['comments'] = post_comments\n",
    "    post_list.append(post_dict)\n",
    "\n",
    "end_time = time.time()\n",
    "total_time = round(((start_time - end_time)/60.0),2)\n",
    "print(f\"Finished pull data in {total_time} mins\")"
   ]
  },
  {
   "cell_type": "code",
   "execution_count": 85,
   "metadata": {},
   "outputs": [
    {
     "data": {
      "text/plain": [
       "100"
      ]
     },
     "execution_count": 85,
     "metadata": {},
     "output_type": "execute_result"
    }
   ],
   "source": [
    "len(post_list)"
   ]
  },
  {
   "cell_type": "code",
   "execution_count": 88,
   "metadata": {},
   "outputs": [
    {
     "data": {
      "text/plain": [
       "{'subreddit': 'r/NYCapartments',\n",
       " 'title': 'List of landlords you SHOULD rent from',\n",
       " 'score': 178,\n",
       " 'num_comments': 45,\n",
       " 'url': 'https://redd.it/1fjyynz',\n",
       " 'comments': ['Ray simone - Williamsburg, very humble guy. Has refused to raise rents on his tenants even though he could',\n",
       "  'The best landlord you can hope for is one that actually follows the laws and regulations as they are written. They are actually pretty few and far between',\n",
       "  'Eberhart brothers has been very good for such a large company I’ll say. My second year with them now',\n",
       "  'Most of the landlords you’re seeking are small , three family owners like mine. I won’t tell you where I rent, and I’m assuming the other owners won’t. I’ll live here til I die',\n",
       "  'Kibel and Rose Properties are both totally fine.\\nI was able to get apartments with both directly from the landlord and avoid broker fees. \\nThey are both corporately run and have dealt with any issues swiftly, I never had any headaches with either.',\n",
       "  'Can be hit or miss I guess, but having just a private owner as my landlord instead of a property management company has been amazing',\n",
       "  'If they own over 5 properties, chances are high they’ve screwed a lot of people over to get to where they’re at, the sad reality here',\n",
       "  '>Do good landlords exist? \\n\\nNot really, no. You can find one who isn’t personally evil—but the industry is draconian,it incentivizes dehumanization/profits over people.',\n",
       "  'Best management companies imo, and I have lived all over Manhattan for years.\\nBrodsky and TF Cornerstone. Always well kept, great staff.',\n",
       "  \"Prime Square Realty - following a horrendous landlord last year, these have been a breath of fresh air. Super supportive and helpful throughout the process, they've fixed any issue we have within 24 hours. Ivan the handy man is brilliant. And rent was only raised $50.\",\n",
       "  'I’ve had good experiences with TF Cornerstone and Smart Management.',\n",
       "  'I think overall people have better experiences with smaller (BUT EXPERIENCED) landlords generally. Always run a Google/court search for the name. \\n\\nMy personal experience - I mean it’s not… affordable? But doable on a DINK income… I’ve lived at several Bozzuto properties both in and outside of NYC and I’ve never had a problem with management, maintenance/repairs, pest control, smells, loud neighbors, etc. No brokers fees at any (went right through the leasing office). Returned security deposits on time. Which with the way landlords are, works for me lol.',\n",
       "  'Manocherian Brothers. Management are always responsive, fix things quickly (e.g. new fridge in one day when ours broke on a Saturday), reasonable rent increases (2-3% a year, I think 5% the one year after Covid where everyone else was getting crazy rent hikes), rent is lower than similar buildings in our neighborhood',\n",
       "  'Zev zafir/Mr Sthuel were the landlords I rented from for years in wburg, my old roomie is still at the apartment. Would def rent from him again, super reasonable, hasn’t done more than a $50/yr rent raise on us since 2017 and has excellent maintenance & pest control guys.',\n",
       "  'Berman realty in Brooklyn! Family owned, show up instantly if there are any problems, reasonable rent increases. Best landlords I’ve had.',\n",
       "  'My landlord has been fine overall our super just kinda sucks. He’s great at cleaning the place but never fixes anything and at this point I’m pretty certain he’s just not a good handyman and doesn’t know how. I’m in my second year, was a $50 rent increase this year. Could be a lot worse off. Anywhere sub $2500 for a 1 bed is a deal nowadays, sadly.',\n",
       "  'I had a great experience with Top Quality Management for a couple of years before my building changed to 360 management- they are horrible and I would stay away but TQM was great ! This was in Brooklyn',\n",
       "  'Top 5 based on openigloo data https://www.openigloo.com/blogs/top-5-big-residential-landlords-in-nyc-2023']}"
      ]
     },
     "execution_count": 88,
     "metadata": {},
     "output_type": "execute_result"
    }
   ],
   "source": [
    "post_dict"
   ]
  },
  {
   "cell_type": "code",
   "execution_count": 89,
   "metadata": {},
   "outputs": [],
   "source": [
    "# create dataframe\n",
    "df = pd.DataFrame(post_list)"
   ]
  },
  {
   "cell_type": "code",
   "execution_count": 90,
   "metadata": {},
   "outputs": [
    {
     "data": {
      "text/html": [
       "<div>\n",
       "<style scoped>\n",
       "    .dataframe tbody tr th:only-of-type {\n",
       "        vertical-align: middle;\n",
       "    }\n",
       "\n",
       "    .dataframe tbody tr th {\n",
       "        vertical-align: top;\n",
       "    }\n",
       "\n",
       "    .dataframe thead th {\n",
       "        text-align: right;\n",
       "    }\n",
       "</style>\n",
       "<table border=\"1\" class=\"dataframe\">\n",
       "  <thead>\n",
       "    <tr style=\"text-align: right;\">\n",
       "      <th></th>\n",
       "      <th>subreddit</th>\n",
       "      <th>title</th>\n",
       "      <th>score</th>\n",
       "      <th>num_comments</th>\n",
       "      <th>url</th>\n",
       "      <th>comments</th>\n",
       "    </tr>\n",
       "  </thead>\n",
       "  <tbody>\n",
       "    <tr>\n",
       "      <th>0</th>\n",
       "      <td>r/NYCapartments</td>\n",
       "      <td>Midtown manhattan Studio with great view</td>\n",
       "      <td>1623</td>\n",
       "      <td>289</td>\n",
       "      <td>https://redd.it/1ditjh8</td>\n",
       "      <td>[$5000 for a studio 😕, It comes with personal ...</td>\n",
       "    </tr>\n",
       "    <tr>\n",
       "      <th>1</th>\n",
       "      <td>r/NYCapartments</td>\n",
       "      <td>Spacious studio on the UWS, great location ste...</td>\n",
       "      <td>1432</td>\n",
       "      <td>57</td>\n",
       "      <td>https://redd.it/1at9s69</td>\n",
       "      <td>[When can I move in?, Wow! What a steal!, Pets...</td>\n",
       "    </tr>\n",
       "    <tr>\n",
       "      <th>2</th>\n",
       "      <td>r/NYCapartments</td>\n",
       "      <td>Those with high rise skyline apartments do you...</td>\n",
       "      <td>1337</td>\n",
       "      <td>249</td>\n",
       "      <td>https://redd.it/1fwnevs</td>\n",
       "      <td>[I didn’t live in one but I worked at an offic...</td>\n",
       "    </tr>\n",
       "    <tr>\n",
       "      <th>3</th>\n",
       "      <td>r/NYCapartments</td>\n",
       "      <td>The rent crisis in NYC is becoming increasingl...</td>\n",
       "      <td>1260</td>\n",
       "      <td>371</td>\n",
       "      <td>https://redd.it/1aq7si7</td>\n",
       "      <td>[Two incomes no kids., Tell me about it, I lit...</td>\n",
       "    </tr>\n",
       "    <tr>\n",
       "      <th>4</th>\n",
       "      <td>r/NYCapartments</td>\n",
       "      <td>Happy Monday everyone</td>\n",
       "      <td>942</td>\n",
       "      <td>199</td>\n",
       "      <td>https://redd.it/1auv5ws</td>\n",
       "      <td>[I think average salary context is needed. Tak...</td>\n",
       "    </tr>\n",
       "  </tbody>\n",
       "</table>\n",
       "</div>"
      ],
      "text/plain": [
       "         subreddit                                              title  score  \\\n",
       "0  r/NYCapartments           Midtown manhattan Studio with great view   1623   \n",
       "1  r/NYCapartments  Spacious studio on the UWS, great location ste...   1432   \n",
       "2  r/NYCapartments  Those with high rise skyline apartments do you...   1337   \n",
       "3  r/NYCapartments  The rent crisis in NYC is becoming increasingl...   1260   \n",
       "4  r/NYCapartments                              Happy Monday everyone    942   \n",
       "\n",
       "   num_comments                      url  \\\n",
       "0           289  https://redd.it/1ditjh8   \n",
       "1            57  https://redd.it/1at9s69   \n",
       "2           249  https://redd.it/1fwnevs   \n",
       "3           371  https://redd.it/1aq7si7   \n",
       "4           199  https://redd.it/1auv5ws   \n",
       "\n",
       "                                            comments  \n",
       "0  [$5000 for a studio 😕, It comes with personal ...  \n",
       "1  [When can I move in?, Wow! What a steal!, Pets...  \n",
       "2  [I didn’t live in one but I worked at an offic...  \n",
       "3  [Two incomes no kids., Tell me about it, I lit...  \n",
       "4  [I think average salary context is needed. Tak...  "
      ]
     },
     "execution_count": 90,
     "metadata": {},
     "output_type": "execute_result"
    }
   ],
   "source": [
    "df.head()"
   ]
  },
  {
   "cell_type": "code",
   "execution_count": 92,
   "metadata": {},
   "outputs": [
    {
     "data": {
      "text/plain": [
       "(0, 6)"
      ]
     },
     "execution_count": 92,
     "metadata": {},
     "output_type": "execute_result"
    }
   ],
   "source": [
    "df[df.num_comments==0].shape"
   ]
  },
  {
   "cell_type": "code",
   "execution_count": 93,
   "metadata": {},
   "outputs": [],
   "source": [
    "# write to csv\n",
    "df.to_csv('nyc_apt.csv')"
   ]
  },
  {
   "cell_type": "code",
   "execution_count": 95,
   "metadata": {},
   "outputs": [],
   "source": [
    "# write to text file\n",
    "with open('reddit_posts_nyc_apt.txt', 'w') as out_file:\n",
    "    for item in post_list:\n",
    "        out_file.write(f\"{item}\\n\")\n"
   ]
  },
  {
   "cell_type": "code",
   "execution_count": null,
   "metadata": {},
   "outputs": [],
   "source": []
  },
  {
   "cell_type": "code",
   "execution_count": null,
   "metadata": {},
   "outputs": [],
   "source": []
  }
 ],
 "metadata": {
  "kernelspec": {
   "display_name": ".venv",
   "language": "python",
   "name": "python3"
  },
  "language_info": {
   "codemirror_mode": {
    "name": "ipython",
    "version": 3
   },
   "file_extension": ".py",
   "mimetype": "text/x-python",
   "name": "python",
   "nbconvert_exporter": "python",
   "pygments_lexer": "ipython3",
   "version": "3.11.5"
  }
 },
 "nbformat": 4,
 "nbformat_minor": 2
}
