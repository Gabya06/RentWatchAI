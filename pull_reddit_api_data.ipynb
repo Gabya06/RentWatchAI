{
 "cells": [
  {
   "cell_type": "markdown",
   "metadata": {},
   "source": [
    "### Pull Data from Reddit subreddit NYCapartments using Reddit API "
   ]
  },
  {
   "cell_type": "code",
   "execution_count": 94,
   "metadata": {},
   "outputs": [],
   "source": [
    "# imports\n",
    "import json\n",
    "import time\n",
    "\n",
    "import matplotlib.pyplot as plt\n",
    "import pandas as pd\n",
    "import praw\n",
    "import seaborn as sns\n",
    "\n",
    "sns.set_style('whitegrid')"
   ]
  },
  {
   "cell_type": "code",
   "execution_count": 3,
   "metadata": {},
   "outputs": [],
   "source": [
    "# open credential file\n",
    "with open('client_secrets.json', 'r') as f:\n",
    "    app_creds = json.load(f)\n"
   ]
  },
  {
   "cell_type": "code",
   "execution_count": 4,
   "metadata": {},
   "outputs": [],
   "source": [
    "# get app credentials\n",
    "client_id = app_creds['client_id']\n",
    "client_secret = app_creds['client_secret']\n",
    "user_agent = app_creds['user_agent']\n",
    "redirect_uri = app_creds['redirect_uri']\n",
    "client_password = app_creds['password']\n",
    "user_name = app_creds['user_name']"
   ]
  },
  {
   "cell_type": "markdown",
   "metadata": {},
   "source": [
    "### Connect to Reddit API"
   ]
  },
  {
   "cell_type": "code",
   "execution_count": 5,
   "metadata": {},
   "outputs": [
    {
     "name": "stdout",
     "output_type": "stream",
     "text": [
      "False\n"
     ]
    }
   ],
   "source": [
    "# connect to Reddit API using PRAW\n",
    "reddit = praw.Reddit(\n",
    "    client_id=client_id,\n",
    "    client_secret=client_secret,\n",
    "    password=client_password,\n",
    "    user_agent=user_agent,\n",
    "    username=user_name,\n",
    ")\n",
    "\n",
    "print(reddit.read_only)"
   ]
  },
  {
   "cell_type": "code",
   "execution_count": 10,
   "metadata": {},
   "outputs": [],
   "source": [
    "# add in astoriaapartments later\n",
    "subreddit_topics = ['astoriaapartments', 'NYCapartments']"
   ]
  },
  {
   "cell_type": "code",
   "execution_count": 116,
   "metadata": {},
   "outputs": [],
   "source": [
    "def pull_post_data(subrreddit:str)->pd.DataFrame:\n",
    "    '''\n",
    "    Parameters\n",
    "    ----------\n",
    "    subrreddit: str\n",
    "        string with subreddit to scrape\n",
    "    \n",
    "    Returns\n",
    "    -------\n",
    "    result_df: pd.DataFrame\n",
    "        DataFrame with the folllowing columns: \n",
    "        ['subreddit', 'title', 'score', 'num_comments', 'url', 'comments']\n",
    "    '''\n",
    "    # Pull posts from last year NYCapartments subreddit\n",
    "    start_time = time.time()\n",
    "    post_list = []\n",
    "    for post in subrreddit:\n",
    "        post_dict = {}\n",
    "        post_comments = []\n",
    "        post_dict['subreddit'] = post.subreddit_name_prefixed\n",
    "        post_dict['title'] = post.title\n",
    "        post_dict['score'] = post.score\n",
    "        post_dict['num_comments'] = post.num_comments\n",
    "        post_dict['url'] = post.shortlink\n",
    "        post.comments.replace_more(limit=None)\n",
    "        for top_level_comment in post.comments:\n",
    "            post_comments.append(top_level_comment.body)\n",
    "        post_dict['comments'] = post_comments\n",
    "        post_list.append(post_dict)\n",
    "\n",
    "    end_time = time.time()\n",
    "    total_time = round(((end_time - start_time)/60.0),2)\n",
    "    print(f\"Finished pulling data in {total_time} mins\")\n",
    "\n",
    "    result_df = pd.DataFrame(post_list)\n",
    "    return result_df"
   ]
  },
  {
   "cell_type": "code",
   "execution_count": 118,
   "metadata": {},
   "outputs": [],
   "source": [
    "sub_reddit = reddit.subreddit(\"NYCapartments\").top(time_filter=\"year\", limit=200)"
   ]
  },
  {
   "cell_type": "code",
   "execution_count": 119,
   "metadata": {},
   "outputs": [
    {
     "name": "stdout",
     "output_type": "stream",
     "text": [
      "Finished pulling data in 4.53 mins\n"
     ]
    }
   ],
   "source": [
    "data = pull_post_data(subrreddit=sub_reddit)"
   ]
  },
  {
   "cell_type": "code",
   "execution_count": 120,
   "metadata": {},
   "outputs": [
    {
     "data": {
      "text/html": [
       "<div>\n",
       "<style scoped>\n",
       "    .dataframe tbody tr th:only-of-type {\n",
       "        vertical-align: middle;\n",
       "    }\n",
       "\n",
       "    .dataframe tbody tr th {\n",
       "        vertical-align: top;\n",
       "    }\n",
       "\n",
       "    .dataframe thead th {\n",
       "        text-align: right;\n",
       "    }\n",
       "</style>\n",
       "<table border=\"1\" class=\"dataframe\">\n",
       "  <thead>\n",
       "    <tr style=\"text-align: right;\">\n",
       "      <th></th>\n",
       "      <th>subreddit</th>\n",
       "      <th>title</th>\n",
       "      <th>score</th>\n",
       "      <th>num_comments</th>\n",
       "      <th>url</th>\n",
       "      <th>comments</th>\n",
       "    </tr>\n",
       "  </thead>\n",
       "  <tbody>\n",
       "    <tr>\n",
       "      <th>0</th>\n",
       "      <td>r/NYCapartments</td>\n",
       "      <td>Midtown manhattan Studio with great view</td>\n",
       "      <td>1623</td>\n",
       "      <td>289</td>\n",
       "      <td>https://redd.it/1ditjh8</td>\n",
       "      <td>[$5000 for a studio 😕, It comes with personal ...</td>\n",
       "    </tr>\n",
       "    <tr>\n",
       "      <th>1</th>\n",
       "      <td>r/NYCapartments</td>\n",
       "      <td>Spacious studio on the UWS, great location ste...</td>\n",
       "      <td>1437</td>\n",
       "      <td>57</td>\n",
       "      <td>https://redd.it/1at9s69</td>\n",
       "      <td>[When can I move in?, Wow! What a steal!, Pets...</td>\n",
       "    </tr>\n",
       "    <tr>\n",
       "      <th>2</th>\n",
       "      <td>r/NYCapartments</td>\n",
       "      <td>Those with high rise skyline apartments do you...</td>\n",
       "      <td>1336</td>\n",
       "      <td>249</td>\n",
       "      <td>https://redd.it/1fwnevs</td>\n",
       "      <td>[I didn’t live in one but I worked at an offic...</td>\n",
       "    </tr>\n",
       "    <tr>\n",
       "      <th>3</th>\n",
       "      <td>r/NYCapartments</td>\n",
       "      <td>The rent crisis in NYC is becoming increasingl...</td>\n",
       "      <td>1253</td>\n",
       "      <td>371</td>\n",
       "      <td>https://redd.it/1aq7si7</td>\n",
       "      <td>[Two incomes no kids., Tell me about it, I lit...</td>\n",
       "    </tr>\n",
       "    <tr>\n",
       "      <th>4</th>\n",
       "      <td>r/NYCapartments</td>\n",
       "      <td>Happy Monday everyone</td>\n",
       "      <td>947</td>\n",
       "      <td>199</td>\n",
       "      <td>https://redd.it/1auv5ws</td>\n",
       "      <td>[I think average salary context is needed. Tak...</td>\n",
       "    </tr>\n",
       "  </tbody>\n",
       "</table>\n",
       "</div>"
      ],
      "text/plain": [
       "         subreddit                                              title  score  \\\n",
       "0  r/NYCapartments           Midtown manhattan Studio with great view   1623   \n",
       "1  r/NYCapartments  Spacious studio on the UWS, great location ste...   1437   \n",
       "2  r/NYCapartments  Those with high rise skyline apartments do you...   1336   \n",
       "3  r/NYCapartments  The rent crisis in NYC is becoming increasingl...   1253   \n",
       "4  r/NYCapartments                              Happy Monday everyone    947   \n",
       "\n",
       "   num_comments                      url  \\\n",
       "0           289  https://redd.it/1ditjh8   \n",
       "1            57  https://redd.it/1at9s69   \n",
       "2           249  https://redd.it/1fwnevs   \n",
       "3           371  https://redd.it/1aq7si7   \n",
       "4           199  https://redd.it/1auv5ws   \n",
       "\n",
       "                                            comments  \n",
       "0  [$5000 for a studio 😕, It comes with personal ...  \n",
       "1  [When can I move in?, Wow! What a steal!, Pets...  \n",
       "2  [I didn’t live in one but I worked at an offic...  \n",
       "3  [Two incomes no kids., Tell me about it, I lit...  \n",
       "4  [I think average salary context is needed. Tak...  "
      ]
     },
     "execution_count": 120,
     "metadata": {},
     "output_type": "execute_result"
    }
   ],
   "source": [
    "data.head()"
   ]
  },
  {
   "cell_type": "code",
   "execution_count": 111,
   "metadata": {},
   "outputs": [
    {
     "data": {
      "text/plain": [
       "0     Agreed on LES. Older buildings plus some parts...\n",
       "1     In terms of best balance between economics and...\n",
       "2     Areas farthest from public transportation are ...\n",
       "3     Lol never seen affordable in the same sentence...\n",
       "4                             Two Bridges and Chinatown\n",
       "5     FiDi considering it's legitimately desolate at...\n",
       "6                                  Define affordable...\n",
       "7     Murray Hill and Kips Bay are about the best yo...\n",
       "8                                      Stuytown lottery\n",
       "9                                             Chinatown\n",
       "10                                        Staten Island\n",
       "11    The 2nd Ave F train platform is quite lovely a...\n",
       "12                           Baruch Houses.\\n\\nHoboken.\n",
       "13                                           New Jersey\n",
       "14    What rage of rents are we talking about here w...\n",
       "15    So yes, old school definition of downtown is b...\n",
       "16    traditional downtown is basically just Chinato...\n",
       "17    in downtown manattan? across the bridges in br...\n",
       "18                                                 SoHo\n",
       "19                                Chinatown, avenue C/D\n",
       "20                                               Harlem\n",
       "21    Gramercy is pretty affordable for me. I had to...\n",
       "22    I live in financial district and would say it’...\n",
       "23    People don't find those areas in downtown Manh...\n",
       "24    I recently moved to alphabet city (avenue c) a...\n",
       "25                                                 None\n",
       "26     The areas with ancient roach infested apartments\n",
       "27                                                 Fidi\n",
       "28    Murray hill, kips bay, alphabet city. Basicall...\n",
       "29    Go to Westchester and take the metro north in ...\n",
       "30                                          Two Bridges\n",
       "31                                   Chinatown.. maybe?\n",
       "32                                                😂😂😂😂😂\n",
       "33                                    Chinatown and LES\n",
       "34         Check out the west village! Super affordable\n",
       "35                                            [deleted]\n",
       "Name: comments, dtype: object"
      ]
     },
     "execution_count": 111,
     "metadata": {},
     "output_type": "execute_result"
    }
   ],
   "source": [
    "data.comments"
   ]
  },
  {
   "cell_type": "code",
   "execution_count": 121,
   "metadata": {},
   "outputs": [
    {
     "data": {
      "text/plain": [
       "(200, 6)"
      ]
     },
     "execution_count": 121,
     "metadata": {},
     "output_type": "execute_result"
    }
   ],
   "source": [
    "data.shape"
   ]
  },
  {
   "cell_type": "code",
   "execution_count": 122,
   "metadata": {},
   "outputs": [
    {
     "data": {
      "image/png": "[encoded data removed]",
      "text/plain": [
       "<Figure size 800x600 with 1 Axes>"
      ]
     },
     "metadata": {},
     "output_type": "display_data"
    }
   ],
   "source": [
    "# Plot distribution of post comments\n",
    "fig, ax = plt.subplots(figsize=(8,6))\n",
    "sns.histplot(data=data, x='num_comments', kde=True, ax=ax, color='red', line_kws={'linestyle':'--'})\n",
    "_ = ax.set_xlabel('Post Comments')\n",
    "_ = ax.set_ylabel('Post Counts')\n",
    "_ = ax.set_title('Distribution of Post Comments')"
   ]
  },
  {
   "cell_type": "code",
   "execution_count": 123,
   "metadata": {},
   "outputs": [
    {
     "data": {
      "image/png": "[encoded data removed]",
      "text/plain": [
       "<Figure size 800x600 with 1 Axes>"
      ]
     },
     "metadata": {},
     "output_type": "display_data"
    }
   ],
   "source": [
    "fig, ax = plt.subplots(figsize=(8,6))\n",
    "sns.histplot(data=data, x='score', kde=True, ax=ax, color='green', bins=10)\n",
    "_ = ax.set_xlabel('Post Upvotes')\n",
    "_ = ax.set_ylabel('Post Counts')\n",
    "_ = ax.set_title('Distribute of Post Upvotes')"
   ]
  },
  {
   "cell_type": "code",
   "execution_count": 48,
   "metadata": {},
   "outputs": [],
   "source": [
    "# write to csv\n",
    "data.to_csv('./data/reddit_posts_nyc_apt.csv')"
   ]
  },
  {
   "cell_type": "code",
   "execution_count": 49,
   "metadata": {},
   "outputs": [],
   "source": [
    "# # write to text file\n",
    "# with open('./data/reddit_posts_nyc_apt.txt', 'w') as out_file:\n",
    "#     for item in post_list:\n",
    "#         out_file.write(f\"{item}\\n\")\n"
   ]
  },
  {
   "cell_type": "code",
   "execution_count": null,
   "metadata": {},
   "outputs": [],
   "source": []
  },
  {
   "cell_type": "code",
   "execution_count": null,
   "metadata": {},
   "outputs": [],
   "source": []
  }
 ],
 "metadata": {
  "kernelspec": {
   "display_name": ".venv",
   "language": "python",
   "name": "python3"
  },
  "language_info": {
   "codemirror_mode": {
    "name": "ipython",
    "version": 3
   },
   "file_extension": ".py",
   "mimetype": "text/x-python",
   "name": "python",
   "nbconvert_exporter": "python",
   "pygments_lexer": "ipython3",
   "version": "3.11.5"
  }
 },
 "nbformat": 4,
 "nbformat_minor": 2
}
